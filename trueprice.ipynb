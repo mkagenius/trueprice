{
 "cells": [
  {
   "cell_type": "code",
   "execution_count": 68,
   "metadata": {},
   "outputs": [],
   "source": [
    "# Import everything here only\n",
    "import pandas as pd"
   ]
  },
  {
   "cell_type": "code",
   "execution_count": 69,
   "metadata": {},
   "outputs": [
    {
     "name": "stdout",
     "output_type": "stream",
     "text": [
      "['Eenadu Television Pvt Limited', 'Raj Television Network Limited', 'Disney ', 'Times Network', 'Turner International Pvt Ltd.', 'Silverstar Communications Ltd.', 'Mavis Satcom Limted', 'Odisha Television', 'NDTV', 'TV TODAY', 'SUN ', 'Discovery ', 'Star ', 'tv 18', 'Sony', 'ZEE']\n"
     ]
    }
   ],
   "source": [
    "# Load bouquet here\n",
    "file = 'Bouquet_of_channel.xlsx'\n",
    "xl = pd.ExcelFile(file)\n",
    "print(xl.sheet_names)"
   ]
  },
  {
   "cell_type": "code",
   "execution_count": 77,
   "metadata": {},
   "outputs": [],
   "source": [
    "sheets = xl.sheet_names\n",
    "d = {}\n",
    "price = {}\n",
    "for sheet in sheets:\n",
    "    parsed_df = xl.parse(sheet)\n",
    "    skip_till  = 0\n",
    "    second_to_last_line = False\n",
    "    is_package_line = True\n",
    "    \n",
    "    for idx,row in parsed_df.iterrows():\n",
    "        if idx == 0:\n",
    "            continue\n",
    "        if idx <= skip_till:\n",
    "            continue\n",
    "        if is_package_line:\n",
    "            bqname = row['Unnamed: 1']\n",
    "            bqname = bqname.strip().lower()\n",
    "            d[bqname] = [] # initialize the package\n",
    "            try:\n",
    "                price[bqname] = float(row['Unnamed: 5'])\n",
    "            except:\n",
    "                pass\n",
    "            is_package_line = False\n",
    "        \n",
    "        if row['Unnamed: 3'] != 'Total Sum of MRP':\n",
    "            channel = row['Unnamed: 3']\n",
    "            channel = str(channel).strip().lower()\n",
    "            d[bqname].append(channel)\n",
    "        else:\n",
    "            # if this last channel\n",
    "            skip_till = idx+1\n",
    "            is_package_line = True\n",
    "\n",
    "        \n",
    "            "
   ]
  },
  {
   "cell_type": "code",
   "execution_count": 72,
   "metadata": {},
   "outputs": [
    {
     "name": "stdout",
     "output_type": "stream",
     "text": [
      "['list of 327 channels']\n"
     ]
    }
   ],
   "source": [
    "# Load Individual Prices\n",
    "file2 = 'MRP_Pay_channel.xlsx'\n",
    "xl2 = pd.ExcelFile(file2)\n",
    "print(xl2.sheet_names)"
   ]
  },
  {
   "cell_type": "code",
   "execution_count": 73,
   "metadata": {},
   "outputs": [],
   "source": [
    "sheets2 = xl2.sheet_names\n",
    "channel_price = {}\n",
    "for sheet in sheets2:\n",
    "    parsed_df = xl2.parse(sheet)\n",
    "    \n",
    "    for idx,row in parsed_df.iterrows():\n",
    "        if idx == 0:\n",
    "            continue\n",
    "        channel = row['Unnamed: 3']\n",
    "        channel = str(channel).strip().lower()\n",
    "        inr = float(row['Unnamed: 6'])\n",
    "        channel_price[channel.replace(\" \",\"\")] = inr\n",
    "        channel_list.append(channel)"
   ]
  },
  {
   "cell_type": "code",
   "execution_count": 76,
   "metadata": {},
   "outputs": [
    {
     "name": "stdout",
     "output_type": "stream",
     "text": [
      "[Buy These Buoquets]\n",
      "ndtv ultra -> 3.5\n",
      "zee prime pack english hd -> 35.0\n",
      "\n",
      "\n",
      "[Buy These Channels]\n",
      "& pictures hd -> 19.0\n"
     ]
    }
   ],
   "source": [
    "# What you want to watch\n",
    "user_chosen_channels = ['& prive hd', '& pictures hd','& flix hd','ndtv profit','ndtv 24*7', 'ndtv india']\n",
    "\n",
    "\n",
    "done = {}\n",
    "chosen_bq = []\n",
    "# remove spaces in names\n",
    "user_chosen_channels2 = [x.replace(\" \", \"\") for x in user_chosen_channels]\n",
    "\n",
    "d.pop('bouquet name', None)\n",
    "# iterate buoquets and see if this buoquet contains a bunch of needed channels whose price sum is more\n",
    "for bq in d.keys():\n",
    "\n",
    "    bq_cost = price[bq]\n",
    "    separate_sum = 0\n",
    "    \n",
    "    for ch in d[bq]:\n",
    "        ch = ch.replace(\" \",\"\")\n",
    "        if ch in user_chosen_channels2:\n",
    "            if ch not in done.keys():\n",
    "                separate_sum += channel_price[ch]\n",
    "    \n",
    "    if separate_sum > bq_cost:\n",
    "        chosen_bq.append(bq)\n",
    "        for ch in d[bq]:\n",
    "            done[ch.replace(\" \",\"\")] = True\n",
    "\n",
    "print(\"[Buy These Buoquets]\")\n",
    "for bq in chosen_bq:\n",
    "    print(bq, \"->\", price[bq])\n",
    "\n",
    "\n",
    "print(\"\\n\\n[Buy These Channels]\")\n",
    "for ch in user_chosen_channels:\n",
    "    if ch.replace(\" \",\"\") not in done.keys():\n",
    "        print(ch, \"->\", channel_price[ch.replace(\" \",\"\")])"
   ]
  },
  {
   "cell_type": "code",
   "execution_count": 64,
   "metadata": {},
   "outputs": [
    {
     "data": {
      "text/plain": [
       "['living foodz hd', 'zee café hd', '&flix hd', '&prive hd', 'wion']"
      ]
     },
     "execution_count": 64,
     "metadata": {},
     "output_type": "execute_result"
    }
   ],
   "source": []
  }
 ],
 "metadata": {
  "kernelspec": {
   "display_name": "Python 3",
   "language": "python",
   "name": "python3"
  },
  "language_info": {
   "codemirror_mode": {
    "name": "ipython",
    "version": 3
   },
   "file_extension": ".py",
   "mimetype": "text/x-python",
   "name": "python",
   "nbconvert_exporter": "python",
   "pygments_lexer": "ipython3",
   "version": "3.6.2"
  }
 },
 "nbformat": 4,
 "nbformat_minor": 2
}
